{
 "cells": [
  {
   "cell_type": "markdown",
   "id": "14730cbf",
   "metadata": {},
   "source": [
    "Research Track 2 Assignment developed by Yusuke Kido (5239225)\n",
    "=====\n",
    "\n",
    "\n",
    "# How to execute\n",
    "\n",
    "You should run the launching file below.\n",
    "```\n",
    "$ roslaunch rt2_first_assignment rt2_first_assignment.launch\n",
    "```\n",
    "After launching, you should run Restart & Run All' command in jupyter notebook and you can manipulate the car robot."
   ]
  },
  {
   "cell_type": "markdown",
   "id": "c1102702",
   "metadata": {},
   "source": [
    "## Import libralies"
   ]
  },
  {
   "cell_type": "code",
   "execution_count": 1,
   "id": "13e46777",
   "metadata": {},
   "outputs": [],
   "source": [
    "import rospy\n",
    "import time\n",
    "import os\n",
    "import tf\n",
    "import sys\n",
    "import actionlib\n",
    "import numpy as np\n",
    "import matplotlib as mpl\n",
    "import matplotlib.pyplot as plt\n",
    "import ipywidgets as widgets\n",
    "import jupyros as jr\n",
    "from nav_msgs.msg import Odometry\n",
    "from tf.transformations import quaternion_matrix\n",
    "from matplotlib.animation import FuncAnimation\n",
    "from matplotlib import pyplot as plt\n",
    "from jupyros import ros3d\n",
    "from geometry_msgs.msg import Twist\n",
    "from sensor_msgs.msg import LaserScan\n",
    "from IPython.display import display\n",
    "from IPython.display import clear_output\n",
    "from ipywidgets import Button, Layout, ButtonStyle, GridBox, VBox, HBox\n",
    "from std_msgs.msg import Float32, Int32\n",
    "from rt2_first_assignment.srv import Cmd\n",
    "from rt2_first_assignment.srv import Dist\n",
    "from rt2_first_assignment.msg import reach"
   ]
  },
  {
   "cell_type": "markdown",
   "id": "6d31f16e",
   "metadata": {},
   "source": [
    "## Initializing ROS node"
   ]
  },
  {
   "cell_type": "code",
   "execution_count": 2,
   "id": "9f8efda3",
   "metadata": {},
   "outputs": [],
   "source": [
    "rospy.init_node('jupy')\n",
    "# Service for selecting the mode\n",
    "client_cmd = rospy.ServiceProxy(\"/cmd\", Cmd)\n",
    "# Service for the destination in auto drive mode\n",
    "client_dist = rospy.ServiceProxy(\"/dist\", Dist)\n",
    "# publishing velocity \n",
    "vel_pub = jr.publish('cmd_vel', Twist)"
   ]
  },
  {
   "cell_type": "markdown",
   "id": "a20d9ab7",
   "metadata": {},
   "source": [
    "## UI: implementing the buttons"
   ]
  },
  {
   "cell_type": "code",
   "execution_count": 3,
   "id": "d87d65c5",
   "metadata": {
    "scrolled": true
   },
   "outputs": [],
   "source": [
    "# buttons for selecting modes\n",
    "b1 = Button(description = 'Auto_drive mode',\n",
    "           layout = Layout(width = 'auto', align = \"center\", grid_area = 'b1'),\n",
    "           style = ButtonStyle(button_color = 'GreenYellow'))\n",
    "\n",
    "b2 = Button(description = 'Manual_drive mode',\n",
    "           layout = Layout(width = 'auto', grid_area = 'b2'),\n",
    "           style = ButtonStyle(button_color = 'GreenYellow'))\n",
    "\n",
    "b3 = Button(description = 'Assisted_drive mode',\n",
    "           layout = Layout(width = 'auto', grid_area = 'b3'),\n",
    "           style = ButtonStyle(button_color = 'GreenYellow'))\n",
    "\n",
    "b4 = Button(description = 'Cancel Goal',\n",
    "           layout = Layout(width = 'auto', grid_area = 'b4'),\n",
    "           style = ButtonStyle(button_color = 'Yellow'))\n",
    "\n",
    "b5 = Button(description = 'Reset Position',\n",
    "           layout = Layout(width = 'auto', grid_area = 'b5'),\n",
    "           style = ButtonStyle(button_color = 'lightblue'))\n",
    "\n",
    "b6 = Button(description = 'End Program',\n",
    "           layout = Layout(width = 'auto', grid_area = 'b6'),\n",
    "           style = ButtonStyle(button_color = 'red'))\n",
    "\n",
    "b7 = Button(description = 'Send Goal',\n",
    "           layout = Layout(width = 'auto', grid_area = 'b7'),\n",
    "           style = ButtonStyle(button_color = 'GreenYellow'))\n",
    "\n",
    "\n",
    "# buttons for manual mode\n",
    "b8 = Button(description = 'Turn Left',\n",
    "           layout = Layout(width = 'auto', grid_area = 'b8'),\n",
    "           style = ButtonStyle(button_color = 'GreenYellow'))\n",
    "\n",
    "b9 = Button(description = 'Move Forward',\n",
    "           layout = Layout(width = 'auto', grid_area = 'b9'),\n",
    "           style = ButtonStyle(button_color = 'GreenYellow'))\n",
    "\n",
    "b10 = Button(description = 'Turn Right',\n",
    "           layout = Layout(width = 'auto', grid_area = 'b10'),\n",
    "           style = ButtonStyle(button_color = 'GreenYellow'))\n",
    "\n",
    "b11 = Button(description = 'Move Backward',\n",
    "           layout = Layout(width = 'auto', grid_area = 'b11'),\n",
    "           style = ButtonStyle(button_color = 'GreenYellow'))\n",
    "\n",
    "b12 = Button(description = 'Stop',\n",
    "           layout = Layout(width = 'auto', grid_area = 'b12'),\n",
    "           style = ButtonStyle(button_color = 'Yellow'))\n",
    "\n",
    "\n",
    "# getting the destination in auto drive mode\n",
    "decided_x = widgets.FloatText(\n",
    "    value = 0,\n",
    "    description = 'X goal:',\n",
    "    disabled = False,\n",
    ")\n",
    "\n",
    "decided_y = widgets.FloatText(\n",
    "    value = 0,\n",
    "    description = 'Y goal:',\n",
    "    disabled = False,\n",
    ")"
   ]
  },
  {
   "cell_type": "markdown",
   "id": "8e94deaf",
   "metadata": {},
   "source": [
    "## Function related to robot movement"
   ]
  },
  {
   "cell_type": "code",
   "execution_count": 4,
   "id": "0e64c795",
   "metadata": {},
   "outputs": [],
   "source": [
    "# Define vel msg\n",
    "vel_msg = Twist()\n",
    "# Publisher for the velocity  in　Manual Drive　and assisted_drive.\n",
    "input_vel_pub = rospy.Publisher('/input_cmd_vel', Twist, queue_size = 100)\n",
    "global cmd, pos_x, pos_y, vel_msg, vel\n",
    "    \n",
    "# the fuctions in each mode\n",
    "def auto_drive(b):\n",
    "    rospy.wait_for_service(\"/cmd\")\n",
    "    print(\"Auto Drive\")\n",
    "    cmd = 1\n",
    "    res1 = client_cmd(cmd)\n",
    "\n",
    "def manual_drive(b):\n",
    "    rospy.wait_for_service(\"/cmd\")\n",
    "    print(\"Manual Drive\")\n",
    "    cmd = 2\n",
    "    res1 = client_cmd(cmd)\n",
    "     \n",
    "def assisted_drive(b):\n",
    "    rospy.wait_for_service(\"/cmd\")\n",
    "    print(\"Assisted Drive\")\n",
    "    cmd = 3\n",
    "    res1 = client_cmd(cmd)\n",
    "    \n",
    "def cancel_goal(b):\n",
    "    rospy.wait_for_service(\"/cmd\")\n",
    "    print(\"cancel the goal\")\n",
    "    cmd = 4\n",
    "    res1 = client_cmd(cmd)\n",
    "    \n",
    "def reset_position(b):\n",
    "    rospy.wait_for_service(\"/cmd\")\n",
    "    print(\"car's position is resetted\")\n",
    "    cmd = 5\n",
    "    res1 = client_cmd(cmd)\n",
    "    \n",
    "def end_program(b):\n",
    "    rospy.wait_for_service(\"/cmd\")\n",
    "    print(\"end program\")\n",
    "    cmd = 0\n",
    "    res1 = client_cmd(cmd)\n",
    "    \n",
    "# the destenation is fixed in auto drive mode\n",
    "def set_position(b):\n",
    "    rospy.wait_for_service(\"/dist\")\n",
    "    global decided_x, decided_y\n",
    "    pos_x = decided_x.value\n",
    "    pos_y = decided_y.value\n",
    "    res2 = client_dist(pos_x, pos_y)\n",
    "    print(\"destination is sent\")\n",
    "    \n",
    "# Publishes the velocity in　Manual Drive　and assisted_drive.\n",
    "def move_forward(b):\n",
    "    vel_msg.linear.x = 0.5\n",
    "    vel_msg.linear.y = 0\n",
    "    vel_msg.linear.z = 0\n",
    "    vel_msg.angular.x = 0\n",
    "    vel_msg.angular.y = 0\n",
    "    vel_msg.angular.z = 0\n",
    "    input_vel_pub.publish(vel_msg)\n",
    "\n",
    "def turn_left(b):\n",
    "    vel_msg.linear.x = 0\n",
    "    vel_msg.linear.y = 0\n",
    "    vel_msg.linear.z = 0\n",
    "    vel_msg.angular.x = 0\n",
    "    vel_msg.angular.y = 0\n",
    "    vel_msg.angular.z = 0.5\n",
    "    input_vel_pub.publish(vel_msg)\n",
    "\n",
    "def turn_right(b):\n",
    "    vel_msg.linear.x = 0\n",
    "    vel_msg.linear.y = 0\n",
    "    vel_msg.linear.z = 0\n",
    "    vel_msg.angular.x = 0\n",
    "    vel_msg.angular.y = 0\n",
    "    vel_msg.angular.z = -0.5\n",
    "    input_vel_pub.publish(vel_msg)\n",
    "    \n",
    "def move_backward(b):\n",
    "    vel_msg.linear.x = -0.5\n",
    "    vel_msg.linear.y = 0\n",
    "    vel_msg.linear.z = 0\n",
    "    vel_msg.angular.x = 0\n",
    "    vel_msg.angular.y = 0\n",
    "    vel_msg.angular.z = 0\n",
    "    input_vel_pub.publish(vel_msg)\n",
    "    \n",
    "def stop(b):\n",
    "    vel_msg.linear.x = 0\n",
    "    vel_msg.linear.y = 0\n",
    "    vel_msg.linear.z = 0\n",
    "    vel_msg.angular.x = 0\n",
    "    vel_msg.angular.y = 0\n",
    "    vel_msg.angular.z = 0\n",
    "    input_vel_pub.publish(vel_msg)\n",
    "    \n",
    "# each functions is called when a button is clicked\n",
    "b1.on_click(auto_drive)\n",
    "b2.on_click(manual_drive)\n",
    "b3.on_click(assisted_drive)\n",
    "b4.on_click(cancel_goal)\n",
    "b5.on_click(reset_position)\n",
    "b6.on_click(end_program)\n",
    "b7.on_click(set_position)\n",
    "b8.on_click(turn_left)\n",
    "b9.on_click(move_forward)\n",
    "b10.on_click(turn_right)\n",
    "b11.on_click(move_backward)\n",
    "b12.on_click(stop)"
   ]
  },
  {
   "cell_type": "markdown",
   "id": "4f545f99",
   "metadata": {},
   "source": [
    "## Choose the mode"
   ]
  },
  {
   "cell_type": "code",
   "execution_count": 5,
   "id": "233ba984",
   "metadata": {
    "scrolled": true
   },
   "outputs": [
    {
     "name": "stdout",
     "output_type": "stream",
     "text": [
      "Choose the mode\n"
     ]
    },
    {
     "data": {
      "application/vnd.jupyter.widget-view+json": {
       "model_id": "13dcf6aca44447b7a25eec8143d28aa2",
       "version_major": 2,
       "version_minor": 0
      },
      "text/plain": [
       "GridBox(children=(Button(description='Auto_drive mode', layout=Layout(grid_area='b1', width='auto'), style=But…"
      ]
     },
     "metadata": {},
     "output_type": "display_data"
    },
    {
     "name": "stdout",
     "output_type": "stream",
     "text": [
      "Auto Drive\n",
      "Manual Drive\n",
      "cancel the goal\n",
      "car's position is resetted\n",
      "Auto Drive\n",
      "Auto Drive\n",
      "car's position is resetted\n",
      "Assisted Drive\n",
      "Manual Drive\n",
      "car's position is resetted\n",
      "Auto Drive\n",
      "cancel the goal\n",
      "car's position is resetted\n",
      "Manual Drive\n",
      "end program\n"
     ]
    }
   ],
   "source": [
    "print('Choose the mode')\n",
    "\n",
    "GridBox(children = [b1, b2, b3, b4, b5, b6],\n",
    "       layout = Layout(\n",
    "           width = '100%',\n",
    "           grid_template_rows = 'auto auto auto',\n",
    "           grid_template_columns = '50% 50%',\n",
    "           grid_template_areas = '''\n",
    "           \"b1 b4\"\n",
    "           \"b2 b5\"\n",
    "           \"b3 b6\"\n",
    "           ''')\n",
    "        )"
   ]
  },
  {
   "cell_type": "markdown",
   "id": "17d8f81b",
   "metadata": {},
   "source": [
    "## Select (x,y) goal in auto drive mode"
   ]
  },
  {
   "cell_type": "code",
   "execution_count": 6,
   "id": "85286b9b",
   "metadata": {
    "scrolled": true
   },
   "outputs": [
    {
     "name": "stdout",
     "output_type": "stream",
     "text": [
      "Select (x,y) goal position and send the goal \n"
     ]
    },
    {
     "data": {
      "application/vnd.jupyter.widget-view+json": {
       "model_id": "2c9f731954de4830ad0e7c6e0affe6e2",
       "version_major": 2,
       "version_minor": 0
      },
      "text/plain": [
       "GridBox(children=(FloatText(value=0.0, description='X goal:'), FloatText(value=0.0, description='Y goal:'), Bu…"
      ]
     },
     "metadata": {},
     "output_type": "display_data"
    },
    {
     "name": "stdout",
     "output_type": "stream",
     "text": [
      "destination is sent\n",
      "destination is sent\n",
      "destination is sent\n",
      "destination is sent\n"
     ]
    }
   ],
   "source": [
    "print('Select (x,y) goal position and send the goal ')\n",
    "\n",
    "GridBox(children = [decided_x, decided_y, b7],\n",
    "       layout = Layout(\n",
    "           width = '100%',\n",
    "           grid_template_rows = 'auto auto',\n",
    "           grid_template_columns = '50% 50%',\n",
    "           grid_template_areas = '''\n",
    "           \"decided_x decided_y\"\n",
    "           \"b7 b7\"\n",
    "           ''')\n",
    "        )"
   ]
  },
  {
   "cell_type": "markdown",
   "id": "1a2e8ffb",
   "metadata": {},
   "source": [
    "## Choose direction in manual mode and assisted mode"
   ]
  },
  {
   "cell_type": "code",
   "execution_count": 7,
   "id": "d6c5339d",
   "metadata": {
    "scrolled": true
   },
   "outputs": [
    {
     "name": "stdout",
     "output_type": "stream",
     "text": [
      "Maneuver the robot\n"
     ]
    },
    {
     "data": {
      "application/vnd.jupyter.widget-view+json": {
       "model_id": "64845390ea784f36bf2467fad6776cc5",
       "version_major": 2,
       "version_minor": 0
      },
      "text/plain": [
       "GridBox(children=(Button(description='Turn Left', layout=Layout(grid_area='b8', width='auto'), style=ButtonSty…"
      ]
     },
     "metadata": {},
     "output_type": "display_data"
    }
   ],
   "source": [
    "print('Maneuver the robot')\n",
    "\n",
    "GridBox(children = [b8, b9, b10, b11, b12],\n",
    "       layout = Layout(\n",
    "           width = '100%',\n",
    "           grid_template_rows = 'auto auto auto',\n",
    "           grid_template_columns = '33% 33% 33%',\n",
    "           grid_template_areas = '''\n",
    "           \"b9 b9 b9\"\n",
    "           \"b8 b12 b10\"\n",
    "           \"b11 b11 b11\"\n",
    "           ''')\n",
    "        )"
   ]
  },
  {
   "cell_type": "markdown",
   "id": "bdda0452",
   "metadata": {},
   "source": [
    "## Data visualization for robot's position and whether it reaches or not"
   ]
  },
  {
   "cell_type": "code",
   "execution_count": 19,
   "id": "c5a9ff02",
   "metadata": {},
   "outputs": [],
   "source": [
    "class Odom_Visualiser:\n",
    "    def __init__(self):\n",
    "        self.fig_odom, self.ax1 = plt.subplots()\n",
    "        plt.grid(True)\n",
    "        self.ln1, = self.ax1.plot([], [], 'ro')\n",
    "        self.x_data, self.y_data = [], []\n",
    "    def plot_init(self):\n",
    "        self.ax1.set_title(\"Robot Odometry\", fontsize = 20, fontweight = 'bold')\n",
    "        self.ax1.set_xlabel(\"X [m]\", fontsize = 10, fontweight = \"bold\")\n",
    "        self.ax1.set_ylabel(\"Y [m]\", fontsize = 10, fontweight = \"bold\")\n",
    "        self.ax1.set_xlim(-20, 20)\n",
    "        self.ax1.set_ylim(-20, 20)\n",
    "        return self.ln1\n",
    "    \n",
    "    def odom_callback(self, msg):\n",
    "        self.y_data.append(msg.pose.pose.position.y)\n",
    "        self.x_data.append(msg.pose.pose.position.x)         \n",
    "        \n",
    "    def update_plot(self, frame):\n",
    "        self.ln1.set_data(self.x_data, self.y_data)\n",
    "        return self.ln1\n",
    "\n",
    "class Laser_Visualiser:\n",
    "    def __init__(self):\n",
    "        self.fig_laser = plt.figure(figsize = (7, 7))\n",
    "        self.ax2 = plt.subplot(111, polar = True)\n",
    "        plt.grid(True)\n",
    "        self.ax2.set_thetalim(-np.pi/2, np.pi/2)\n",
    "        self.ax2.set_rmax(20)\n",
    "        self.ax2.set_theta_zero_location(\"N\")\n",
    "        self.ln2, = self.ax2.plot([], [], 'b-')\n",
    "        self.laser_dist = []\n",
    "        self.laser_ang = []\n",
    "        \n",
    "    def plot_init(self):\n",
    "        self.ax2.set_title(\"Laser Scanner Data\", fontsize = 20, fontweight = \"bold\")\n",
    "        self.ax2.set_xlabel(\"Distance [m]\", fontsize = 10, fontweight = \"bold\")\n",
    "        return self.ln2\n",
    "    \n",
    "    def laser_callback(self, msg):\n",
    "        global laser_ang\n",
    "        self.laser_dist = msg.ranges\n",
    "        self.laser_ang = np.arange(msg.angle_min, msg.angle_max+msg.angle_increment, msg.angle_increment)\n",
    "        \n",
    "    def update_plot(self, frame):\n",
    "        global laser_ang\n",
    "        self.ax2.set_rmax(20)\n",
    "        self.ln2.set_data(self.laser_ang, self.laser_dist)\n",
    "        return self.ln2\n",
    "    \n",
    "class Goal_Visualiser:\n",
    "    def __init__(self):\n",
    "        self.fig_goal, self.ax3 = plt.subplots()\n",
    "        plt.grid(False)\n",
    "        self.reached = 0\n",
    "        self.unreached = 0\n",
    "        self.ln3 = plt.bar(['Reached', 'Unreached'], [self.reached, self.unreached], color = ['red', 'green'])\n",
    "        \n",
    "    def plot_init(self):\n",
    "        self.ax3.set_title(\"Goals are reached or not\", fontsize = 20, fontweight = \"bold\")\n",
    "        self.ax3.set_xlabel(\"Goal success\", fontsize = 10, fontweight = \"bold\")\n",
    "        self.ax3.set_ylabel(\"Numbers\", fontsize = 10, fontweight = \"bold\")\n",
    "        self.ax3.set_ylim(0, 16)\n",
    "        self.ax3.set_yticks(np.arange(0, 16, 2))\n",
    "        return self.ln3\n",
    "    \n",
    "    def goal_callback(self, msg):\n",
    "        self.reached = msg.reach\n",
    "        self.unreached = msg.unreach     \n",
    "        \n",
    "    def update_plot(self, frame):\n",
    "        self.ln3 = plt.bar(['Reached', 'Unreached'], [self.reached, self.unreached], color = ['red', 'green'])\n",
    "        return self.ln3"
   ]
  },
  {
   "cell_type": "code",
   "execution_count": 21,
   "id": "93a0342e",
   "metadata": {},
   "outputs": [
    {
     "data": {
      "application/vnd.jupyter.widget-view+json": {
       "model_id": "5b99649824074f8bb69afae7d925d553",
       "version_major": 2,
       "version_minor": 0
      },
      "text/plain": [
       "Canvas(toolbar=Toolbar(toolitems=[('Home', 'Reset original view', 'home', 'home'), ('Back', 'Back to previous …"
      ]
     },
     "metadata": {},
     "output_type": "display_data"
    },
    {
     "data": {
      "application/vnd.jupyter.widget-view+json": {
       "model_id": "fcab6d0f5be54e1cae791c46df28ad95",
       "version_major": 2,
       "version_minor": 0
      },
      "text/plain": [
       "Canvas(toolbar=Toolbar(toolitems=[('Home', 'Reset original view', 'home', 'home'), ('Back', 'Back to previous …"
      ]
     },
     "metadata": {},
     "output_type": "display_data"
    },
    {
     "data": {
      "application/vnd.jupyter.widget-view+json": {
       "model_id": "c3dc53cb978a4fa19b67da6f08383f70",
       "version_major": 2,
       "version_minor": 0
      },
      "text/plain": [
       "Canvas(toolbar=Toolbar(toolitems=[('Home', 'Reset original view', 'home', 'home'), ('Back', 'Back to previous …"
      ]
     },
     "metadata": {},
     "output_type": "display_data"
    }
   ],
   "source": [
    "%matplotlib widget\n",
    "odom_vis = Odom_Visualiser()\n",
    "subOdom = rospy.Subscriber('/odom', Odometry, odom_vis.odom_callback)\n",
    "ani1 = FuncAnimation(odom_vis.fig_odom, odom_vis.update_plot, init_func=odom_vis.plot_init,interval=1000, blit=False)\n",
    "laser_vis = Laser_Visualiser()\n",
    "subLaser = rospy.Subscriber('/scan', LaserScan, laser_vis.laser_callback)\n",
    "ani2 = FuncAnimation(laser_vis.fig_laser, laser_vis.update_plot, init_func=laser_vis.plot_init,interval=500, blit=False)\n",
    "goal_vis = Goal_Visualiser()\n",
    "subGoal = rospy.Subscriber('/status_goal', reach, goal_vis.goal_callback)\n",
    "ani3= FuncAnimation(goal_vis.fig_goal, goal_vis.update_plot, init_func=goal_vis.plot_init,interval=500, blit=True)"
   ]
  }
 ],
 "metadata": {
  "kernelspec": {
   "display_name": "Python 3 (ipykernel)",
   "language": "python",
   "name": "python3"
  },
  "language_info": {
   "codemirror_mode": {
    "name": "ipython",
    "version": 3
   },
   "file_extension": ".py",
   "mimetype": "text/x-python",
   "name": "python",
   "nbconvert_exporter": "python",
   "pygments_lexer": "ipython3",
   "version": "3.8.5"
  }
 },
 "nbformat": 4,
 "nbformat_minor": 5
}
